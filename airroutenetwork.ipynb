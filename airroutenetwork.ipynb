{
 "cells": [
  {
   "cell_type": "code",
   "execution_count": 3,
   "id": "6794f73a-0f81-4a4b-a33c-758d3869dcbd",
   "metadata": {},
   "outputs": [
    {
     "name": "stderr",
     "output_type": "stream",
     "text": [
      "/var/folders/lf/dr6s6bmx50dcvy0zh98t8hg00000gn/T/ipykernel_65353/2819152980.py:6: DtypeWarning: Columns (10) have mixed types. Specify dtype option on import or set low_memory=False.\n",
      "  df = pd.read_csv('geo_routes.csv')\n"
     ]
    }
   ],
   "source": [
    "import pandas as pd\n",
    "import networkx as nx\n",
    "import numpy as np\n",
    "\n",
    "\n",
    "df = pd.read_csv('geo_routes.csv')\n",
    "df.columns = df.columns.str.strip()\n",
    "\n",
    "# G contains the airports as nodes and the routes as directed edges\n",
    "\n",
    "\n",
    "\n",
    "G = nx.DiGraph()\n",
    "\n",
    "# Add nodes and edges to the graph\n",
    "unfound_airport_codes = set()\n",
    "\n",
    "for index, row in df.iterrows():\n",
    "    source_airport = row['source airport']\n",
    "    destination_airport = row['destination apirport']  # for some reason `destination airport` is spelled wrong in the spreadsheet\n",
    "    airline_code = row['airline']\n",
    "    num_stops = row['stops']\n",
    "    # equipment_used = row['equipment']\n",
    "\n",
    "    airline = row['Airline Name']\n",
    "    alliance = row['Flight Alliance']\n",
    "\n",
    "    src_lat = row['lat_src']\n",
    "    src_lng = row['lng_src']\n",
    "    src_elev = row['elevation_src']\n",
    "\n",
    "    dest_lat = row['lat_dest']\n",
    "    dest_lng = row['lng_dest']\n",
    "    dest_elev = row['elevation_dest']\n",
    "\n",
    "\n",
    "    # I wanted to add equipment but it seems that b/c the equipment_used row is full of different types of data values\n",
    "    # it can't be imported into Gephi\n",
    "\n",
    "    \n",
    "    # add nodes for the airports if they are not already in the graph\n",
    "    \n",
    "    \n",
    "    \n",
    "    if row['source airport'] not in G:\n",
    "        G.add_node(source_airport, airline = airline_code, stops = num_stops, latitude=src_lat, longitude=src_lng, elevation=src_elev)\n",
    "    if row['destination apirport'] not in G:\n",
    "        G.add_node(destination_airport, airline = airline_code, stops = num_stops, latitude=dest_lat, longitude=dest_lng, elevation=dest_elev)\n",
    "    \n",
    "    # Add a directed edge from Source to Destination\n",
    "    G.add_edge(source_airport, destination_airport, airline_name=airline, flight_alliance=alliance)\n",
    "\n",
    "\n",
    "\n",
    "\n",
    "\n",
    "\n",
    "nx.write_graphml(G, \"network.graphml\")"
   ]
  },
  {
   "cell_type": "code",
   "execution_count": null,
   "id": "579d69fd-871f-474d-a7c0-2b778c9afe1f",
   "metadata": {},
   "outputs": [
    {
     "name": "stdout",
     "output_type": "stream",
     "text": [
      "Number of nodes:  3425\n",
      "Number of edges:  37595\n",
      "\n",
      "Average degree:  21.953284671532845\n",
      "Average degree (alternate calculation) 21.953284671532845\n",
      "\n",
      "Minimum degree:  1\n",
      "Maximum degree:  477\n"
     ]
    }
   ],
   "source": [
    "N = len(G)\n",
    "L = G.size()\n",
    "degrees = [G.degree(node) for node in G]\n",
    "kmin = min(degrees)\n",
    "kmax = max(degrees)\n",
    "\n",
    "print(\"Number of nodes: \", N)\n",
    "print(\"Number of edges: \", L)\n",
    "print()\n",
    "print(\"Average degree: \", 2*L/N)\n",
    "print(\"Average degree (alternate calculation)\", np.mean(degrees))\n",
    "print()\n",
    "print(\"Minimum degree: \", kmin)\n",
    "print(\"Maximum degree: \", kmax)"
   ]
  },
  {
   "cell_type": "code",
   "execution_count": null,
   "id": "1053b8c8-5133-49d7-8358-861f6f121a58",
   "metadata": {},
   "outputs": [],
   "source": []
  },
  {
   "cell_type": "code",
   "execution_count": null,
   "id": "37c57462-da1a-4b52-8f3f-38206a163574",
   "metadata": {},
   "outputs": [
    {
     "name": "stdout",
     "output_type": "stream",
     "text": [
      "Number of strongly connected components: 44\n",
      "Number of weakly connected components: 8\n",
      "Size of the largest strongly connected component: 3354\n",
      "Size of the largest weakly connected component: 3397\n"
     ]
    }
   ],
   "source": [
    "# find number of strongly and weakly connected components\n",
    "num_strongly_connected = nx.number_strongly_connected_components(G)\n",
    "num_weakly_connected = nx.number_weakly_connected_components(G)\n",
    "\n",
    "# find largest strongly and weakly connected components\n",
    "largest_strongly_connected = max(nx.strongly_connected_components(G), key=len)\n",
    "largest_weakly_connected = max(nx.weakly_connected_components(G), key=len)\n",
    "\n",
    "print(\"Number of strongly connected components:\", num_strongly_connected)\n",
    "print(\"Number of weakly connected components:\", num_weakly_connected)\n",
    "print(\"Size of the largest strongly connected component:\", len(largest_strongly_connected))\n",
    "print(\"Size of the largest weakly connected component:\", len(largest_weakly_connected))\n"
   ]
  },
  {
   "cell_type": "code",
   "execution_count": null,
   "id": "afb571b9-f4ba-4f62-a551-a7bd7d8a3acc",
   "metadata": {},
   "outputs": [
    {
     "name": "stdout",
     "output_type": "stream",
     "text": [
      "Network density: 0.003205795074698138\n"
     ]
    }
   ],
   "source": [
    "density = nx.density(G)\n",
    "print(\"Network density:\", density)\n"
   ]
  },
  {
   "cell_type": "code",
   "execution_count": null,
   "id": "0c9573d0-03d7-47af-9551-5e9e3d583105",
   "metadata": {},
   "outputs": [
    {
     "name": "stdout",
     "output_type": "stream",
     "text": [
      "Average clustering coefficient: 0.48709335661295583\n"
     ]
    }
   ],
   "source": [
    "# idk if i even doing this right, just some stastic that looked interesting.\n",
    "avg_clustering = nx.average_clustering(G.to_undirected())\n",
    "print(\"Average clustering coefficient:\", avg_clustering)\n"
   ]
  },
  {
   "cell_type": "code",
   "execution_count": null,
   "id": "078da98d-6c4a-4936-b591-81f8271a5b01",
   "metadata": {},
   "outputs": [],
   "source": []
  },
  {
   "cell_type": "code",
   "execution_count": null,
   "id": "90e72e50-191d-4aaa-9096-f05b36b89575",
   "metadata": {},
   "outputs": [],
   "source": []
  }
 ],
 "metadata": {
  "kernelspec": {
   "display_name": "Python 3.11.8 64-bit ('3.11.8')",
   "language": "python",
   "name": "python3"
  },
  "language_info": {
   "codemirror_mode": {
    "name": "ipython",
    "version": 3
   },
   "file_extension": ".py",
   "mimetype": "text/x-python",
   "name": "python",
   "nbconvert_exporter": "python",
   "pygments_lexer": "ipython3",
   "version": "3.11.8"
  },
  "vscode": {
   "interpreter": {
    "hash": "1f5ed10c6ebcf985729d7c31ef5b2df83483b03c1772dc262e2f6dcc16038ca3"
   }
  }
 },
 "nbformat": 4,
 "nbformat_minor": 5
}
